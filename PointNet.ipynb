{
 "cells": [
  {
   "cell_type": "code",
   "execution_count": 1,
   "id": "300ba6c4-ff1f-4b17-acb5-2c32b1ffe89d",
   "metadata": {
    "tags": []
   },
   "outputs": [],
   "source": [
    "import cv2\n",
    "import mediapipe as mp\n",
    "import os\n",
    "import numpy as np\n",
    "import math\n",
    "import json\n"
   ]
  },
  {
   "cell_type": "code",
   "execution_count": 2,
   "id": "ccf68d77",
   "metadata": {
    "tags": []
   },
   "outputs": [],
   "source": [
    "import torch\n",
    "import torch.nn as nn\n",
    "import torch.nn.functional as F\n",
    "from torch.utils.data import DataLoader\n",
    "from torch.nn import CrossEntropyLoss\n",
    "from torch.optim import Adam\n",
    "from copy import deepcopy"
   ]
  },
  {
   "cell_type": "markdown",
   "id": "b65c84a1",
   "metadata": {
    "tags": []
   },
   "source": [
    "# POINT EXTRACTION\n",
    "I've used the mediapipe library to extract 3 coordinates (x,y,z) of 21 points of a single hand, from a series of hand pictures.\n",
    "Resulting in 2386 samples * 21 points per hand * 3 coordinates per hand of 25 different characters.\n",
    "Since I don't have enough computational power to process it all I have split the data in batches and stored the results in a txt file"
   ]
  },
  {
   "cell_type": "code",
   "execution_count": null,
   "id": "c13914f6",
   "metadata": {
    "tags": []
   },
   "outputs": [],
   "source": [
    "mp_hands = mp.solutions.hands"
   ]
  },
  {
   "cell_type": "code",
   "execution_count": null,
   "id": "b1eeaa46-ae3a-4c3f-b847-4fc72a6bb826",
   "metadata": {
    "tags": []
   },
   "outputs": [],
   "source": [
    "#Resize the images\n",
    "def resize_image(img,DESIRED_HEIGHT = 480, DESIRED_WIDTH = 480):\n",
    "    h, w = img.shape[:2]\n",
    "    if h < w:\n",
    "        img = cv2.resize(img, (DESIRED_WIDTH, math.floor(h/(w/DESIRED_WIDTH))))\n",
    "    else:\n",
    "        img = cv2.resize(img, (math.floor(w/(h/DESIRED_HEIGHT)), DESIRED_HEIGHT))\n",
    "    return img"
   ]
  },
  {
   "cell_type": "code",
   "execution_count": null,
   "id": "82012adc-7448-4fd9-9b77-b72b3e15714a",
   "metadata": {
    "tags": []
   },
   "outputs": [],
   "source": [
    "#Mediapipe does not work well if the image is near the image limits so we add a border if needed\n",
    "def add_border(img, border_size=150):\n",
    "    img = cv2.copyMakeBorder(img, top=border_size, bottom=border_size, left=border_size, right=border_size, borderType=cv2.BORDER_CONSTANT, \n",
    "                               value=[0, 0, 0] )\n",
    "    return img"
   ]
  },
  {
   "cell_type": "code",
   "execution_count": null,
   "id": "a26a6f32-bb2f-435c-8ec3-130746c9710f",
   "metadata": {
    "tags": []
   },
   "outputs": [],
   "source": [
    "# We call mediapipe to extract the points. If mediapipe is unable to do so we add a border and try again.\n",
    "def get_points(img):\n",
    "    hands = mp_hands.Hands(min_detection_confidence=0.5, min_tracking_confidence=0.5)\n",
    "    results = hands.process(cv2.flip(cv2.cvtColor(img, cv2.COLOR_BGR2RGB), 1))\n",
    "    points = []\n",
    "        \n",
    "    if results.multi_hand_landmarks:\n",
    "        for hand_landmarks in results.multi_hand_landmarks:\n",
    "            for i in range(21):\n",
    "                x = hand_landmarks.landmark[i].x\n",
    "                y = hand_landmarks.landmark[i].y\n",
    "                z = hand_landmarks.landmark[i].z\n",
    "                points.append([x, y, z])  \n",
    "    else:\n",
    "        img = add_border(img)\n",
    "        results = hands.process(cv2.flip(cv2.cvtColor(img, cv2.COLOR_BGR2RGB), 1))\n",
    "        if results.multi_hand_landmarks:\n",
    "            for hand_landmarks in results.multi_hand_landmarks:\n",
    "                for i in range(21):\n",
    "                    x = hand_landmarks.landmark[i].x\n",
    "                    y = hand_landmarks.landmark[i].y\n",
    "                    z = hand_landmarks.landmark[i].z\n",
    "                    points.append([x, y, z]) \n",
    "        else:\n",
    "            points = None\n",
    "        \n",
    "    return points"
   ]
  },
  {
   "cell_type": "code",
   "execution_count": null,
   "id": "e0ecf946-4926-47bd-8372-9ff2cd904147",
   "metadata": {
    "tags": []
   },
   "outputs": [],
   "source": [
    "#We scale all points.\n",
    "def scale_points(p):\n",
    "    if p is not None:\n",
    "        p = np.array(p)\n",
    "        min_x = np.min(p[:, 0])\n",
    "        max_x = np.max(p[:, 0])\n",
    "        min_y = np.min(p[:, 1])\n",
    "        max_y = np.max(p[:, 1])\n",
    "        min_z = np.min(p[:, 2])\n",
    "        max_z = np.max(p[:, 2])\n",
    "        for pp in p:\n",
    "            pp[0] = (pp[0] - min_x) / (max_x - min_x)\n",
    "            pp[1] = (pp[1] - min_y) / (max_y - min_y)\n",
    "            pp[2] = (pp[2] - min_z) / (max_z - min_z)\n",
    "    return p"
   ]
  },
  {
   "cell_type": "code",
   "execution_count": null,
   "id": "26807343",
   "metadata": {},
   "outputs": [],
   "source": [
    "#Import train set\n",
    "test_set=[]\n",
    "character_len_dic ={}\n",
    "\n",
    "path= 'working/train'\n",
    "character_types = ['d']\n",
    "\n",
    "\n",
    "for character in character_types:\n",
    "    dir_path = f'{path}/{character}'\n",
    "    character_len_dic[character] = len(os.listdir(dir_path))\n",
    "    for img in os.listdir(dir_path):\n",
    "        print(character,img)\n",
    "        im_path = f'{dir_path}/{img}'\n",
    "        image = cv2.imread(im_path,cv2.IMREAD_COLOR)\n",
    "        image = resize_image(image)\n",
    "        image_points = get_points(image)\n",
    "        hand_points = scale_points(image_points)\n",
    "        image_label = character\n",
    "        if hand_points is not None: \n",
    "            test_set.append((hand_points, image_label))\n",
    "\n",
    "with open(r'image_tensor.txt', 'a') as fp:\n",
    "    fp.write(\"\\n\".join(str(item) for item in test_set))"
   ]
  },
  {
   "cell_type": "code",
   "execution_count": null,
   "id": "f192a4c9",
   "metadata": {
    "tags": []
   },
   "outputs": [],
   "source": [
    "#Import test set\n",
    "test_set=[]\n",
    "character_len_dic ={}\n",
    "\n",
    "path= 'working/test'\n",
    "character_types = ['u','v','w','x','y','z']\n",
    "\n",
    "\n",
    "for character in character_types:\n",
    "    dir_path = f'{path}/{character}'\n",
    "    character_len_dic[character] = len(os.listdir(dir_path))\n",
    "    for img in os.listdir(dir_path):\n",
    "        print(character,img)\n",
    "        im_path = f'{dir_path}/{img}'\n",
    "        image = cv2.imread(im_path,cv2.IMREAD_COLOR)\n",
    "        image = resize_image(image)\n",
    "        image_points = get_points(image)\n",
    "        hand_points = scale_points(image_points)\n",
    "        image_label = character\n",
    "        if hand_points is not None: \n",
    "            test_set.append((hand_points, image_label))\n",
    "\n",
    "with open(r'image_tensor_test.txt', 'a') as fp:\n",
    "    fp.write(\"\\n\".join(str(item) for item in test_set))"
   ]
  },
  {
   "cell_type": "code",
   "execution_count": null,
   "id": "a59d8b56-dfaf-45f0-b1ba-93685295ad7a",
   "metadata": {},
   "outputs": [],
   "source": [
    "#Import val set\n",
    "val_set=[]\n",
    "character_len_dic ={}\n",
    "\n",
    "path= 'working/val'\n",
    "character_types = ['y','z']\n",
    "\n",
    "\n",
    "for character in character_types:\n",
    "    dir_path = f'{path}/{character}'\n",
    "    character_len_dic[character] = len(os.listdir(dir_path))\n",
    "    for img in os.listdir(dir_path):\n",
    "        print(character,img)\n",
    "        im_path = f'{dir_path}/{img}'\n",
    "        image = cv2.imread(im_path,cv2.IMREAD_COLOR)\n",
    "        image = resize_image(image)\n",
    "        image_points = get_points(image)\n",
    "        hand_points = scale_points(image_points)\n",
    "        image_label = character\n",
    "        if hand_points is not None: \n",
    "            val_set.append((hand_points, image_label))\n",
    "\n",
    "with open(r'image_tensor_val.txt', 'a') as fp:\n",
    "    fp.write(\"\\n\".join(str(item) for item in val_set))"
   ]
  },
  {
   "cell_type": "markdown",
   "id": "92ef0508-ff52-4d39-881c-ec50773784b1",
   "metadata": {},
   "source": [
    "# .txt load and preprocess\n",
    "Since we have stored our data in a txt file we need to extract it to be able to process it"
   ]
  },
  {
   "cell_type": "code",
   "execution_count": 37,
   "id": "dd631f71",
   "metadata": {
    "tags": []
   },
   "outputs": [],
   "source": [
    "#Load training set\n",
    "image_set=[]\n",
    "\n",
    "with open(r'image_tensor.txt', 'r') as fp:\n",
    "    data = fp.read()\n",
    "    image_set = data.split(\"\\n\") \n"
   ]
  },
  {
   "cell_type": "code",
   "execution_count": 38,
   "id": "ee41ff53",
   "metadata": {
    "tags": []
   },
   "outputs": [],
   "source": [
    "new_set=[]\n",
    "element=''\n",
    "for i in image_set:\n",
    "    if i !='':\n",
    "        if i[-1] == ')':\n",
    "            element = element + i\n",
    "            new_set.append(element)\n",
    "            element = ''\n",
    "        else:\n",
    "            element = element + i\n"
   ]
  },
  {
   "cell_type": "code",
   "execution_count": 39,
   "id": "6838f5c3",
   "metadata": {
    "tags": []
   },
   "outputs": [],
   "source": [
    "test1=[]\n",
    "for element in new_set:\n",
    "     b=element[-3]\n",
    "     a=element[:-7]\n",
    "     a=a[7:]\n",
    "     test1.append((a,b))"
   ]
  },
  {
   "cell_type": "code",
   "execution_count": 40,
   "id": "b0212030",
   "metadata": {
    "tags": []
   },
   "outputs": [],
   "source": [
    "ones=np.identity(26)"
   ]
  },
  {
   "cell_type": "code",
   "execution_count": 52,
   "id": "87da6f06",
   "metadata": {
    "tags": []
   },
   "outputs": [],
   "source": [
    "my_library={}\n",
    "for item in test1:\n",
    "    if item[1] in my_library.keys():\n",
    "        my_library[item[1]] +=1\n",
    "    else:\n",
    "        my_library[item[1]] =1"
   ]
  },
  {
   "cell_type": "code",
   "execution_count": 76,
   "id": "3a68dacb",
   "metadata": {
    "tags": []
   },
   "outputs": [],
   "source": [
    "import matplotlib.pyplot as plt\n",
    "\n",
    "names = list(my_library.keys())\n",
    "values = list(my_library.values())\n"
   ]
  },
  {
   "cell_type": "code",
   "execution_count": 43,
   "id": "e5af2957",
   "metadata": {
    "tags": []
   },
   "outputs": [],
   "source": [
    "labels_dict={}\n",
    "for i in range(len(names)):\n",
    "    labels_dict[names[i]] =ones[i]"
   ]
  },
  {
   "cell_type": "code",
   "execution_count": 44,
   "id": "e87d13fc",
   "metadata": {
    "tags": []
   },
   "outputs": [],
   "source": [
    "torch_set=[]\n",
    "for i in range(len(test1)):\n",
    "    a = eval(test1[i][0])\n",
    "    c = torch.tensor(np.transpose(np.asarray(a)),dtype=torch.float32)\n",
    "    b = test1[i][1]\n",
    "    d = torch.tensor(labels_dict[b],dtype=torch.float32)\n",
    "    torch_set.append((c,d))\n"
   ]
  },
  {
   "cell_type": "code",
   "execution_count": 45,
   "id": "680cd313",
   "metadata": {
    "tags": []
   },
   "outputs": [],
   "source": [
    "#Load test data\n",
    "test_image_set=[]\n",
    "i=0\n",
    "with open(r'image_tensor_test.txt', 'r') as ft:\n",
    "    datatest = ft.read()\n",
    "    element=''\n",
    "    for letter in datatest:\n",
    "        element = element + letter\n",
    "        i+=1\n",
    "        if element[-1:] =='\\n':\n",
    "            element.replace(\" \", \"\")\n",
    "            test_image_set.append(element[:-1])\n",
    "            element=''\n"
   ]
  },
  {
   "cell_type": "code",
   "execution_count": 46,
   "id": "6aedbaf8-8ac6-4621-ab9b-a19c77df51c7",
   "metadata": {
    "tags": []
   },
   "outputs": [],
   "source": [
    "test_new_set=[]\n",
    "element=''\n",
    "for i in test_image_set:\n",
    "    if i !='':\n",
    "        if i[-1] == ')':\n",
    "            element = element + i\n",
    "            test_new_set.append(element)\n",
    "            element = ''\n",
    "        else:\n",
    "            element = element + i"
   ]
  },
  {
   "cell_type": "code",
   "execution_count": 47,
   "id": "6de7d82a-1d77-40da-b168-9412b983bac1",
   "metadata": {
    "tags": []
   },
   "outputs": [],
   "source": [
    "test2=[]\n",
    "for element in test_new_set:\n",
    "    x=element[-3]\n",
    "    y=element[:-7]\n",
    "    y=y[7:]\n",
    "    test2.append((y,x))"
   ]
  },
  {
   "cell_type": "code",
   "execution_count": 48,
   "id": "ec97a2a9",
   "metadata": {
    "tags": []
   },
   "outputs": [],
   "source": [
    "test_set=[]\n",
    "for i in range(len(test2)):\n",
    "    e = eval(test2[i][0])\n",
    "    f = torch.tensor(np.transpose(np.asarray(e)),dtype=torch.float32)\n",
    "    g = test2[i][1]\n",
    "    h = torch.tensor(labels_dict[g],dtype=torch.float32)\n",
    "    test_set.append((f,h))"
   ]
  },
  {
   "cell_type": "code",
   "execution_count": 49,
   "id": "5c9cfbc9-3ce0-443c-bfa0-d285fd9191d8",
   "metadata": {
    "tags": []
   },
   "outputs": [],
   "source": [
    "#Load val data\n",
    "val_image_set=[]\n",
    "i=0\n",
    "with open(r'image_tensor_val.txt', 'r') as ft:\n",
    "    datatest = ft.read()\n",
    "    element=''\n",
    "    for letter in datatest:\n",
    "        element = element + letter\n",
    "        i+=1\n",
    "        if element[-1:] =='\\n':\n",
    "            element.replace(\" \", \"\")\n",
    "            val_image_set.append(element[:-1])\n",
    "            element=''\n",
    "\n",
    "val_new_set=[]\n",
    "element=''\n",
    "for i in val_image_set:\n",
    "    if i !='':\n",
    "        if i[-1] == ')':\n",
    "            element = element + i\n",
    "            val_new_set.append(element)\n",
    "            element = ''\n",
    "        else:\n",
    "            element = element + i\n",
    "            \n",
    "test3=[]\n",
    "for element in val_new_set:\n",
    "    x=element[-3]\n",
    "    y=element[:-7]\n",
    "    y=y[7:]\n",
    "    test3.append((y,x))\n",
    "\n",
    "val_set=[]\n",
    "for i in range(len(test3)):\n",
    "    e = eval(test2[i][0])\n",
    "    f = torch.tensor(np.transpose(np.asarray(e)),dtype=torch.float32)\n",
    "    g = test2[i][1]\n",
    "    h = torch.tensor(labels_dict[g],dtype=torch.float32)\n",
    "    val_set.append((f,h))"
   ]
  },
  {
   "cell_type": "code",
   "execution_count": 50,
   "id": "fc54b0a5-15af-4642-b57c-d41fcfb3d830",
   "metadata": {
    "tags": []
   },
   "outputs": [],
   "source": [
    "n_images_train = len(torch_set)\n",
    "n_images_test = len(test_set)\n",
    "n_images_val = len(val_set)"
   ]
  },
  {
   "cell_type": "code",
   "execution_count": 54,
   "id": "4f146e96-57b8-438f-a730-6eee04ab5b35",
   "metadata": {
    "tags": []
   },
   "outputs": [],
   "source": [
    "for item in test2:\n",
    "    if item[1] in my_library.keys():\n",
    "        my_library[item[1]] +=1\n",
    "    else:\n",
    "        my_library[item[1]] =1\n",
    "        \n",
    "for item in test3:\n",
    "    if item[1] in my_library.keys():\n",
    "        my_library[item[1]] +=1\n",
    "    else:\n",
    "        my_library[item[1]] =1"
   ]
  },
  {
   "cell_type": "code",
   "execution_count": 77,
   "id": "8d6d4522-10ab-4ef3-a5b3-8b292f63d44d",
   "metadata": {
    "tags": []
   },
   "outputs": [
    {
     "data": {
      "image/png": "[encoded data removed]",
      "text/plain": [
       "<Figure size 640x480 with 1 Axes>"
      ]
     },
     "metadata": {},
     "output_type": "display_data"
    }
   ],
   "source": [
    "import matplotlib.pyplot as plt\n",
    "\n",
    "names = list(my_library.keys())\n",
    "values = list(my_library.values())\n",
    "\n",
    "plt.bar(range(len(my_library)), values, tick_label=names)\n",
    "plt.title(\"Characters processed by MediaPipe\")\n",
    "plt.show()"
   ]
  },
  {
   "cell_type": "markdown",
   "id": "2f04c4bf-a493-47b0-95f9-a7952aa85cb8",
   "metadata": {},
   "source": [
    "Here we can see that MediaPipe has issues extracting points from the character q and x"
   ]
  },
  {
   "cell_type": "markdown",
   "id": "9d9e4f06",
   "metadata": {},
   "source": [
    "# MODEL\n",
    "We will train the model with a modification of the PointNet Architecture, which is good interpretating clouds of points. The benefits of this aplication is that it is able to interpretate the coordenates regardless of its orientation in the 3D space (invariant to all rotations).\n",
    "https://datascienceub.medium.com/pointnet-implementation-explained-visually-c7e300139698"
   ]
  },
  {
   "cell_type": "code",
   "execution_count": 56,
   "id": "1d1f944a",
   "metadata": {
    "tags": []
   },
   "outputs": [],
   "source": [
    "class PointNet(nn.Module):\n",
    "    def __init__(self):\n",
    "        super(PointNet, self).__init__()\n",
    "\n",
    "        self.box1 = nn.Sequential(nn.Conv1d(3, 64, kernel_size=1, stride=1), nn.BatchNorm1d(64), nn.ReLU())\n",
    "\n",
    "        self.box2 = nn.Sequential(nn.Conv1d(64, 64, kernel_size=1, stride=1), nn.BatchNorm1d(64), nn.ReLU())\n",
    "\n",
    "        self.box3 = nn.Sequential(nn.Conv1d(64, 64, kernel_size=1, stride=1), nn.BatchNorm1d(64), nn.ReLU())\n",
    "\n",
    "        self.box4 = nn.Sequential(nn.Conv1d(64, 128, kernel_size=1, stride=1), nn.BatchNorm1d(128), nn.ReLU())\n",
    "\n",
    "        self.box5 = nn.Sequential(nn.Conv1d(128, 1024, kernel_size=1, stride=1), nn.BatchNorm1d(1024), nn.ReLU())\n",
    "\n",
    "        self.mp = nn.MaxPool1d(21)\n",
    "\n",
    "        #self.box6 = nn.Sequential(nn.Linear(1024, 512), nn.BatchNorm1d(512), nn.ReLU())\n",
    "        self.box6 = nn.Sequential(nn.Linear(1024, 512), nn.ReLU())\n",
    "\n",
    "        #self.box7 = nn.Sequential(nn.Linear(512, 256), nn.BatchNorm1d(256), nn.ReLU())\n",
    "        self.box7 = nn.Sequential(nn.Linear(512, 256),  nn.ReLU())\n",
    "\n",
    "        self.box8 = nn.Linear(256, 26) #26 characters\n",
    "\n",
    "    def forward(self, x):\n",
    "        \n",
    "        x = self.box1(x)\n",
    "        #print('box1: ',x.shape)\n",
    "        x = self.box2(x)\n",
    "        #print('box2: ',x.shape)\n",
    "        x = self.box3(x)\n",
    "        #print('box3: ',x.shape)\n",
    "        x = self.box4(x)\n",
    "        #print('box4: ',x.shape)\n",
    "        x = self.box5(x)\n",
    "        #print('box5: ',x.shape)\n",
    "\n",
    "        x = self.mp(x)\n",
    "        #print('mp: ',x.shape)\n",
    "        #x = torch.flatten(x,1) #flatten\n",
    "        x = x.reshape(-1,1024)\n",
    "        #print('flatten: ',x.shape)\n",
    "\n",
    "        x = self.box6(x)\n",
    "        #print('box6: ',x.shape)\n",
    "        x = self.box7(x)\n",
    "        #print('box7: ',x.shape)\n",
    "        x = F.softmax(self.box8(x),dim=1)\n",
    "        #print('box8: ',x.shape)\n",
    "\n",
    "        return x\n",
    "\n",
    "    def get_number_of_parameters(self):\n",
    "        return sum(p.numel() for p in self.parameters())"
   ]
  },
  {
   "cell_type": "markdown",
   "id": "eb00f327-f6f2-4910-a9f9-78accc5a39ba",
   "metadata": {},
   "source": [
    "# Training \n",
    "To train the model we will use the Adam optimizer and Cross Entropy loss function"
   ]
  },
  {
   "cell_type": "code",
   "execution_count": 57,
   "id": "d8b817b4",
   "metadata": {
    "tags": []
   },
   "outputs": [
    {
     "name": "stdout",
     "output_type": "stream",
     "text": [
      "model number of parameters: 814490\n"
     ]
    }
   ],
   "source": [
    "device = 'cuda' if torch.cuda.is_available() else 'cpu'\n",
    "\n",
    "model = PointNet().to(device)\n",
    "\n",
    "print('model number of parameters:', model.get_number_of_parameters())"
   ]
  },
  {
   "cell_type": "code",
   "execution_count": 58,
   "id": "f381e2b8",
   "metadata": {
    "tags": []
   },
   "outputs": [],
   "source": [
    "train_loader = DataLoader(torch_set, batch_size=7, shuffle=True, drop_last=True)\n",
    "test_loader = DataLoader(test_set, batch_size=1, shuffle=False)\n",
    "val_loader = DataLoader(val_set, batch_size=4, shuffle=False)\n",
    "\n",
    "loss_function = CrossEntropyLoss()\n",
    "\n",
    "optimizer = Adam(model.parameters(), lr=5e-4, weight_decay=1e-5)"
   ]
  },
  {
   "cell_type": "code",
   "execution_count": 59,
   "id": "ea2b47b2-e4ce-4b65-8002-90dd043a1bea",
   "metadata": {
    "tags": []
   },
   "outputs": [
    {
     "name": "stdout",
     "output_type": "stream",
     "text": [
      "epoch: 1, training loss: 3.243, test loss: 3.229, val loss: 3.192\n",
      "epoch: 1, training accuracy: 5.71%, test accuracy: 11.36%, val accuracy: 11.49% \n",
      "\n",
      "epoch: 2, training loss: 3.134, test loss: 3.127, val loss: 3.089\n",
      "epoch: 2, training accuracy: 18.27%, test accuracy: 21.59%, val accuracy: 21.84% \n",
      "\n",
      "epoch: 3, training loss: 3.045, test loss: 3.053, val loss: 3.020\n",
      "epoch: 3, training accuracy: 27.34%, test accuracy: 31.25%, val accuracy: 31.03% \n",
      "\n",
      "epoch: 4, training loss: 2.986, test loss: 2.964, val loss: 2.931\n",
      "epoch: 4, training accuracy: 33.69%, test accuracy: 39.20%, val accuracy: 39.08% \n",
      "\n",
      "epoch: 5, training loss: 2.957, test loss: 2.960, val loss: 2.927\n",
      "epoch: 5, training accuracy: 36.05%, test accuracy: 39.77%, val accuracy: 39.66% \n",
      "\n",
      "epoch: 6, training loss: 2.926, test loss: 2.969, val loss: 2.937\n",
      "epoch: 6, training accuracy: 39.47%, test accuracy: 38.64%, val accuracy: 38.51% \n",
      "\n",
      "epoch: 7, training loss: 2.926, test loss: 2.911, val loss: 2.879\n",
      "epoch: 7, training accuracy: 39.54%, test accuracy: 44.89%, val accuracy: 44.83% \n",
      "\n",
      "epoch: 8, training loss: 2.876, test loss: 2.895, val loss: 2.863\n",
      "epoch: 8, training accuracy: 44.18%, test accuracy: 45.45%, val accuracy: 45.40% \n",
      "\n",
      "epoch: 9, training loss: 2.870, test loss: 2.857, val loss: 2.825\n",
      "epoch: 9, training accuracy: 45.11%, test accuracy: 52.27%, val accuracy: 52.30% \n",
      "\n",
      "epoch: 10, training loss: 2.812, test loss: 2.882, val loss: 2.850\n",
      "epoch: 10, training accuracy: 51.46%, test accuracy: 48.30%, val accuracy: 48.28% \n",
      "\n",
      "epoch: 11, training loss: 2.800, test loss: 2.821, val loss: 2.788\n",
      "epoch: 11, training accuracy: 52.25%, test accuracy: 53.41%, val accuracy: 53.45% \n",
      "\n",
      "epoch: 12, training loss: 2.784, test loss: 2.760, val loss: 2.727\n",
      "epoch: 12, training accuracy: 54.32%, test accuracy: 60.80%, val accuracy: 60.92% \n",
      "\n",
      "epoch: 13, training loss: 2.783, test loss: 2.781, val loss: 2.749\n",
      "epoch: 13, training accuracy: 54.18%, test accuracy: 57.39%, val accuracy: 57.47% \n",
      "\n",
      "epoch: 14, training loss: 2.770, test loss: 2.738, val loss: 2.705\n",
      "epoch: 14, training accuracy: 54.75%, test accuracy: 61.93%, val accuracy: 62.07% \n",
      "\n",
      "epoch: 15, training loss: 2.761, test loss: 2.853, val loss: 2.821\n",
      "epoch: 15, training accuracy: 56.10%, test accuracy: 50.00%, val accuracy: 50.00% \n",
      "\n",
      "epoch: 16, training loss: 2.744, test loss: 2.756, val loss: 2.724\n",
      "epoch: 16, training accuracy: 57.89%, test accuracy: 60.23%, val accuracy: 60.34% \n",
      "\n",
      "epoch: 17, training loss: 2.751, test loss: 2.822, val loss: 2.784\n",
      "epoch: 17, training accuracy: 56.75%, test accuracy: 53.41%, val accuracy: 54.02% \n",
      "\n",
      "epoch: 18, training loss: 2.739, test loss: 2.780, val loss: 2.748\n",
      "epoch: 18, training accuracy: 58.60%, test accuracy: 57.95%, val accuracy: 58.05% \n",
      "\n",
      "epoch: 19, training loss: 2.690, test loss: 2.685, val loss: 2.652\n",
      "epoch: 19, training accuracy: 63.38%, test accuracy: 67.05%, val accuracy: 67.24% \n",
      "\n",
      "epoch: 20, training loss: 2.666, test loss: 2.696, val loss: 2.664\n",
      "epoch: 20, training accuracy: 65.60%, test accuracy: 66.48%, val accuracy: 66.67% \n",
      "\n",
      "epoch: 21, training loss: 2.681, test loss: 2.718, val loss: 2.686\n",
      "epoch: 21, training accuracy: 64.17%, test accuracy: 63.07%, val accuracy: 63.22% \n",
      "\n",
      "epoch: 22, training loss: 2.668, test loss: 2.681, val loss: 2.649\n",
      "epoch: 22, training accuracy: 65.31%, test accuracy: 67.61%, val accuracy: 67.82% \n",
      "\n",
      "epoch: 23, training loss: 2.674, test loss: 2.704, val loss: 2.672\n",
      "epoch: 23, training accuracy: 64.24%, test accuracy: 64.77%, val accuracy: 64.94% \n",
      "\n",
      "epoch: 24, training loss: 2.681, test loss: 2.791, val loss: 2.755\n",
      "epoch: 24, training accuracy: 63.95%, test accuracy: 55.68%, val accuracy: 56.32% \n",
      "\n",
      "epoch: 25, training loss: 2.679, test loss: 2.705, val loss: 2.672\n",
      "epoch: 25, training accuracy: 64.38%, test accuracy: 64.77%, val accuracy: 64.94% \n",
      "\n",
      "epoch: 26, training loss: 2.652, test loss: 2.689, val loss: 2.656\n",
      "epoch: 26, training accuracy: 66.88%, test accuracy: 66.48%, val accuracy: 66.67% \n",
      "\n",
      "epoch: 27, training loss: 2.674, test loss: 2.705, val loss: 2.672\n",
      "epoch: 27, training accuracy: 65.02%, test accuracy: 64.77%, val accuracy: 64.94% \n",
      "\n",
      "epoch: 28, training loss: 2.653, test loss: 2.701, val loss: 2.669\n",
      "epoch: 28, training accuracy: 66.88%, test accuracy: 64.77%, val accuracy: 64.94% \n",
      "\n",
      "epoch: 29, training loss: 2.647, test loss: 2.673, val loss: 2.640\n",
      "epoch: 29, training accuracy: 67.09%, test accuracy: 68.18%, val accuracy: 68.39% \n",
      "\n",
      "epoch: 30, training loss: 2.634, test loss: 2.703, val loss: 2.669\n",
      "epoch: 30, training accuracy: 68.81%, test accuracy: 64.77%, val accuracy: 64.94% \n",
      "\n",
      "epoch: 31, training loss: 2.653, test loss: 2.727, val loss: 2.694\n",
      "epoch: 31, training accuracy: 67.02%, test accuracy: 63.07%, val accuracy: 63.22% \n",
      "\n",
      "epoch: 32, training loss: 2.624, test loss: 2.728, val loss: 2.695\n",
      "epoch: 32, training accuracy: 69.74%, test accuracy: 62.50%, val accuracy: 62.64% \n",
      "\n",
      "epoch: 33, training loss: 2.648, test loss: 2.684, val loss: 2.652\n",
      "epoch: 33, training accuracy: 67.09%, test accuracy: 67.05%, val accuracy: 67.24% \n",
      "\n",
      "epoch: 34, training loss: 2.645, test loss: 2.700, val loss: 2.667\n",
      "epoch: 34, training accuracy: 67.09%, test accuracy: 65.34%, val accuracy: 65.52% \n",
      "\n",
      "epoch: 35, training loss: 2.642, test loss: 2.708, val loss: 2.676\n",
      "epoch: 35, training accuracy: 67.81%, test accuracy: 63.64%, val accuracy: 63.79% \n",
      "\n",
      "epoch: 36, training loss: 2.601, test loss: 2.645, val loss: 2.613\n",
      "epoch: 36, training accuracy: 71.81%, test accuracy: 71.02%, val accuracy: 71.26% \n",
      "\n",
      "epoch: 37, training loss: 2.600, test loss: 2.700, val loss: 2.666\n",
      "epoch: 37, training accuracy: 72.23%, test accuracy: 65.34%, val accuracy: 65.52% \n",
      "\n",
      "epoch: 38, training loss: 2.622, test loss: 2.694, val loss: 2.662\n",
      "epoch: 38, training accuracy: 69.95%, test accuracy: 66.48%, val accuracy: 66.67% \n",
      "\n",
      "epoch: 39, training loss: 2.625, test loss: 2.652, val loss: 2.619\n",
      "epoch: 39, training accuracy: 69.38%, test accuracy: 69.89%, val accuracy: 70.11% \n",
      "\n",
      "epoch: 40, training loss: 2.592, test loss: 2.647, val loss: 2.614\n",
      "epoch: 40, training accuracy: 72.95%, test accuracy: 71.02%, val accuracy: 71.26% \n",
      "\n",
      "epoch: 41, training loss: 2.633, test loss: 2.672, val loss: 2.639\n",
      "epoch: 41, training accuracy: 68.74%, test accuracy: 68.18%, val accuracy: 68.39% \n",
      "\n",
      "epoch: 42, training loss: 2.610, test loss: 2.648, val loss: 2.616\n",
      "epoch: 42, training accuracy: 70.74%, test accuracy: 70.45%, val accuracy: 70.69% \n",
      "\n",
      "epoch: 43, training loss: 2.600, test loss: 2.646, val loss: 2.614\n",
      "epoch: 43, training accuracy: 72.16%, test accuracy: 69.89%, val accuracy: 70.11% \n",
      "\n",
      "epoch: 44, training loss: 2.581, test loss: 2.631, val loss: 2.599\n",
      "epoch: 44, training accuracy: 74.02%, test accuracy: 72.73%, val accuracy: 72.99% \n",
      "\n",
      "epoch: 45, training loss: 2.575, test loss: 2.633, val loss: 2.601\n",
      "epoch: 45, training accuracy: 74.52%, test accuracy: 71.59%, val accuracy: 71.84% \n",
      "\n",
      "epoch: 46, training loss: 2.586, test loss: 2.621, val loss: 2.589\n",
      "epoch: 46, training accuracy: 73.52%, test accuracy: 72.73%, val accuracy: 72.99% \n",
      "\n",
      "epoch: 47, training loss: 2.591, test loss: 2.660, val loss: 2.628\n",
      "epoch: 47, training accuracy: 72.95%, test accuracy: 68.75%, val accuracy: 68.97% \n",
      "\n",
      "epoch: 48, training loss: 2.571, test loss: 2.630, val loss: 2.597\n",
      "epoch: 48, training accuracy: 74.95%, test accuracy: 72.16%, val accuracy: 72.41% \n",
      "\n",
      "epoch: 49, training loss: 2.569, test loss: 2.669, val loss: 2.636\n",
      "epoch: 49, training accuracy: 75.09%, test accuracy: 68.75%, val accuracy: 68.97% \n",
      "\n",
      "epoch: 50, training loss: 2.586, test loss: 2.629, val loss: 2.596\n",
      "epoch: 50, training accuracy: 73.45%, test accuracy: 72.16%, val accuracy: 72.41% \n",
      "\n",
      "epoch: 51, training loss: 2.562, test loss: 2.638, val loss: 2.606\n",
      "epoch: 51, training accuracy: 75.73%, test accuracy: 71.02%, val accuracy: 71.26% \n",
      "\n",
      "epoch: 52, training loss: 2.583, test loss: 2.637, val loss: 2.604\n",
      "epoch: 52, training accuracy: 73.80%, test accuracy: 72.16%, val accuracy: 72.41% \n",
      "\n",
      "epoch: 53, training loss: 2.574, test loss: 2.640, val loss: 2.608\n",
      "epoch: 53, training accuracy: 74.52%, test accuracy: 71.59%, val accuracy: 71.84% \n",
      "\n",
      "epoch: 54, training loss: 2.565, test loss: 2.618, val loss: 2.586\n",
      "epoch: 54, training accuracy: 75.45%, test accuracy: 73.86%, val accuracy: 74.14% \n",
      "\n",
      "epoch: 55, training loss: 2.570, test loss: 2.623, val loss: 2.590\n",
      "epoch: 55, training accuracy: 74.88%, test accuracy: 72.73%, val accuracy: 72.99% \n",
      "\n",
      "epoch: 56, training loss: 2.590, test loss: 2.639, val loss: 2.606\n",
      "epoch: 56, training accuracy: 72.95%, test accuracy: 71.59%, val accuracy: 71.84% \n",
      "\n",
      "epoch: 57, training loss: 2.592, test loss: 2.660, val loss: 2.628\n",
      "epoch: 57, training accuracy: 72.66%, test accuracy: 68.75%, val accuracy: 68.97% \n",
      "\n",
      "epoch: 58, training loss: 2.593, test loss: 2.610, val loss: 2.577\n",
      "epoch: 58, training accuracy: 72.52%, test accuracy: 73.86%, val accuracy: 74.14% \n",
      "\n",
      "epoch: 59, training loss: 2.568, test loss: 2.673, val loss: 2.641\n",
      "epoch: 59, training accuracy: 74.95%, test accuracy: 67.05%, val accuracy: 67.24% \n",
      "\n",
      "epoch: 60, training loss: 2.607, test loss: 2.579, val loss: 2.547\n",
      "epoch: 60, training accuracy: 71.38%, test accuracy: 77.27%, val accuracy: 77.59% \n",
      "\n"
     ]
    }
   ],
   "source": [
    "epochs = 60\n",
    "\n",
    "train_loss, train_accuracy = [], []\n",
    "val_loss, val_accuracy = [], []\n",
    "test_loss, test_accuracy = [], []\n",
    "best_model = deepcopy(model)\n",
    "best_val_loss = torch.inf\n",
    "\n",
    "for epoch in range(epochs):\n",
    "    model.train()\n",
    "    train_loss_epoch, train_accuracy_epoch = 0,0\n",
    "    for img, labels in train_loader:\n",
    "        input_data = img.to(device)\n",
    "        labels = labels.to(device)\n",
    "        outputs = model(input_data)\n",
    "        loss = loss_function(outputs, labels)\n",
    "        optimizer.zero_grad()\n",
    "        loss.backward()\n",
    "        optimizer.step()\n",
    "        train_loss_epoch += loss.item() * len(labels)\n",
    "        correct = torch.argmax(outputs, dim=1) == torch.argmax(labels, dim=1)\n",
    "        train_accuracy_epoch += correct.sum().item()\n",
    "\n",
    "\n",
    "    train_loss_epoch /= n_images_train\n",
    "    train_accuracy_epoch /= (n_images_train / 100)\n",
    "    train_loss.append(train_loss_epoch)\n",
    "    train_accuracy.append(train_accuracy_epoch)\n",
    "\n",
    "    model.eval()\n",
    "    test_loss_epoch, test_accuracy_epoch = 0, 0\n",
    "    for img, labels in test_loader:\n",
    "        input_data = img.to(device)\n",
    "        labels = labels.to(device)\n",
    "        outputs = model(input_data)\n",
    "        loss = loss_function(outputs, labels)\n",
    "        test_loss_epoch += loss.item() * len(labels)\n",
    "        correct = torch.argmax(outputs, dim=1) == torch.argmax(labels, dim=1)\n",
    "        test_accuracy_epoch += correct.sum().item()\n",
    "\n",
    "    test_loss_epoch /= n_images_val\n",
    "    test_accuracy_epoch /= (n_images_test / 100)\n",
    "    test_loss.append(test_loss_epoch)\n",
    "    test_accuracy.append(test_accuracy_epoch)\n",
    "    \n",
    "    val_loss_epoch, val_accuracy_epoch = 0, 0\n",
    "    for img, labels in val_loader:\n",
    "        input_data = img.to(device)\n",
    "        labels = labels.to(device)\n",
    "        outputs = model(input_data)\n",
    "        loss = loss_function(outputs, labels)\n",
    "        val_loss_epoch += loss.item() * len(labels)\n",
    "        correct = torch.argmax(outputs, dim=1) == torch.argmax(labels, dim=1)\n",
    "        val_accuracy_epoch += correct.sum().item()\n",
    "        \n",
    "    val_loss_epoch /= n_images_val\n",
    "    val_accuracy_epoch /= (n_images_val / 100)\n",
    "    val_loss.append(val_loss_epoch)\n",
    "    val_accuracy.append(val_accuracy_epoch)\n",
    "\n",
    "    if val_loss_epoch < best_val_loss:\n",
    "        best_val_loss = val_loss_epoch\n",
    "        best_model = deepcopy(model)\n",
    "\n",
    "    print('epoch: {}, training loss: {:.3f}, test loss: {:.3f}, val loss: {:.3f}'.format(epoch+1, train_loss_epoch, test_loss_epoch, val_loss_epoch))\n",
    "    print('epoch: {}, training accuracy: {:.2f}%, test accuracy: {:.2f}%, val accuracy: {:.2f}% \\n'.format(epoch+1, train_accuracy_epoch, test_accuracy_epoch, val_accuracy_epoch))"
   ]
  },
  {
   "cell_type": "code",
   "execution_count": 60,
   "id": "11d2a318-7b63-421b-a303-ffe6c43a259e",
   "metadata": {
    "tags": []
   },
   "outputs": [
    {
     "data": {
      "text/plain": [
       "<matplotlib.legend.Legend at 0x242e349d750>"
      ]
     },
     "execution_count": 60,
     "metadata": {},
     "output_type": "execute_result"
    },
    {
     "data": {
      "image/png": "[encoded data removed]",
      "text/plain": [
       "<Figure size 1200x500 with 2 Axes>"
      ]
     },
     "metadata": {},
     "output_type": "display_data"
    }
   ],
   "source": [
    "import matplotlib.pyplot as plt\n",
    "\n",
    "fig, ax = plt.subplots(1, 2, figsize=(12,5))\n",
    "ax[0].plot(train_loss, c='b', label='train')\n",
    "ax[0].plot(val_loss, c='r', label='validation')\n",
    "ax[0].set_xlabel('Epoch', fontsize=14)\n",
    "ax[0].set_ylabel('Mean Squared Error', fontsize=14)\n",
    "ax[0].set_title('Loss per epoch', fontsize=18, y=1.02)\n",
    "ax[0].legend()\n",
    "ax[1].plot(train_accuracy, c='b', label='train')\n",
    "ax[1].plot(val_accuracy, c='r', label='validation')\n",
    "ax[1].set_xlabel('Epoch', fontsize=14)\n",
    "ax[1].set_ylabel('Accuracy', fontsize=14)\n",
    "ax[1].set_title('Accuracy per epoch', fontsize=18, y=1.02)\n",
    "ax[1].legend()"
   ]
  },
  {
   "cell_type": "markdown",
   "id": "92bc00a6-4eb4-46d1-819c-f5a7106d7a18",
   "metadata": {
    "tags": []
   },
   "source": [
    "Here we can see a visualization of the training process. We can see how the loss decreases and the accuracy increases"
   ]
  },
  {
   "cell_type": "markdown",
   "id": "e57cd4da-5e47-4b1e-b457-034c179bdc7f",
   "metadata": {
    "tags": []
   },
   "source": [
    "# Model Evaluation"
   ]
  },
  {
   "cell_type": "code",
   "execution_count": 61,
   "id": "7ec69e15-f918-47f1-bc4d-71674f30d2a9",
   "metadata": {
    "tags": []
   },
   "outputs": [],
   "source": [
    "decript_dict={}\n",
    "for i in range(len(list(my_library.keys()))):\n",
    "    decript_dict[i]=list(my_library.keys())[i]"
   ]
  },
  {
   "cell_type": "code",
   "execution_count": 63,
   "id": "0f4bca83-10a7-46a7-a6d5-11c7af01bd5c",
   "metadata": {
    "tags": []
   },
   "outputs": [
    {
     "name": "stdout",
     "output_type": "stream",
     "text": [
      "The accuracy on the test set of the best model is 77.27%\n"
     ]
    }
   ],
   "source": [
    "best_model.eval()\n",
    "forecasts=[]\n",
    "test_accuracy = 0\n",
    "for img, labels in test_loader:\n",
    "    input_data = img.to(device)\n",
    "    labels = labels.to(device)\n",
    "    outputs = best_model(input_data)\n",
    "    correct = torch.argmax(outputs, dim=1) == torch.argmax(labels, dim=1)\n",
    "    test_accuracy += correct.sum().item()\n",
    "    forecasts.append((decript_dict[torch.argmax(labels, dim=1).item()],decript_dict[torch.argmax(outputs, dim=1).item()]))\n",
    "test_accuracy /= n_images_test\n",
    "\n",
    "print('The accuracy on the test set of the best model is {:.2f}%'.format(100 * test_accuracy))"
   ]
  },
  {
   "cell_type": "code",
   "execution_count": 65,
   "id": "28250e88-9d8a-4cf9-b842-235c762b3a11",
   "metadata": {
    "tags": []
   },
   "outputs": [],
   "source": [
    "import pandas as pd\n",
    "\n",
    "df=pd.DataFrame(forecasts, columns=['label','prediction'])"
   ]
  },
  {
   "cell_type": "code",
   "execution_count": 66,
   "id": "c8fb52ad-63fd-4faf-be6e-62df413af972",
   "metadata": {
    "tags": []
   },
   "outputs": [
    {
     "data": {
      "text/plain": [
       "<sklearn.metrics._plot.confusion_matrix.ConfusionMatrixDisplay at 0x242e65c6c10>"
      ]
     },
     "execution_count": 66,
     "metadata": {},
     "output_type": "execute_result"
    },
    {
     "data": {
      "image/png": "[encoded data removed]",
      "text/plain": [
       "<Figure size 1500x1500 with 2 Axes>"
      ]
     },
     "metadata": {},
     "output_type": "display_data"
    }
   ],
   "source": [
    "import matplotlib.pyplot as plt\n",
    "import numpy\n",
    "from sklearn import metrics\n",
    "\n",
    "actual = df['label']\n",
    "predicted = df['prediction']\n",
    "\n",
    "confusion_matrix = metrics.confusion_matrix(actual, predicted)\n",
    "\n",
    "cm_display = metrics.ConfusionMatrixDisplay(confusion_matrix = confusion_matrix, display_labels = list(decript_dict.values()))\n",
    "\n",
    "fig, ax = plt.subplots(figsize=(15,15))\n",
    "cm_display.plot(ax=ax)"
   ]
  },
  {
   "cell_type": "code",
   "execution_count": 67,
   "id": "8788624d-6d72-435e-9800-6d8655ef4496",
   "metadata": {
    "tags": []
   },
   "outputs": [],
   "source": [
    "fig.savefig(\"confusion_PointNet.png\")"
   ]
  },
  {
   "cell_type": "code",
   "execution_count": 69,
   "id": "14ee9c25-8728-41b0-8ad4-26cd4aaac38e",
   "metadata": {
    "tags": []
   },
   "outputs": [],
   "source": [
    "df['correct']=df['label']==df['prediction']"
   ]
  },
  {
   "cell_type": "code",
   "execution_count": 70,
   "id": "70be617e-eea3-4a10-92c6-254b8cc29406",
   "metadata": {
    "tags": []
   },
   "outputs": [],
   "source": [
    "import seaborn as sns"
   ]
  },
  {
   "cell_type": "code",
   "execution_count": 72,
   "id": "fbde3b21-20b9-49ec-b37c-37dd8b05f3d2",
   "metadata": {
    "tags": []
   },
   "outputs": [
    {
     "data": {
      "image/png": "[encoded data removed]",
      "text/plain": [
       "<Figure size 800x400 with 1 Axes>"
      ]
     },
     "metadata": {},
     "output_type": "display_data"
    }
   ],
   "source": [
    "plt.figure(figsize=(8, 4))\n",
    "ax = sns.histplot(data=df[df[\"correct\"] == False], x=\"label\", color='purple')\n",
    "ax.set_title('Incorrectly Classified Images')\n",
    "plt.show()"
   ]
  }
 ],
 "metadata": {
  "kernelspec": {
   "display_name": "Python 3 (ipykernel)",
   "language": "python",
   "name": "python3"
  },
  "language_info": {
   "codemirror_mode": {
    "name": "ipython",
    "version": 3
   },
   "file_extension": ".py",
   "mimetype": "text/x-python",
   "name": "python",
   "nbconvert_exporter": "python",
   "pygments_lexer": "ipython3",
   "version": "3.11.5"
  }
 },
 "nbformat": 4,
 "nbformat_minor": 5
}
